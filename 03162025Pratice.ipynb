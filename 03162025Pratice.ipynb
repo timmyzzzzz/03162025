{
 "cells": [
  {
   "cell_type": "code",
   "execution_count": null,
   "metadata": {},
   "outputs": [],
   "source": [
    "import sys\n",
    "\n",
    "def solve():\n",
    "    n = int(input())\n",
    "    a = list(map(int, input().split()))\n",
    "    \n",
    "    best_diff = 0\n",
    "    L, R = 0, 0\n",
    "    \n",
    "    for i in range(n):\n",
    "        cnt_greater = 0\n",
    "        cnt_less = 0\n",
    "        for j in range(i + 1, n):\n",
    "            cnt_greater += a[j] > a[i]\n",
    "            cnt_less += a[j] < a[i]\n",
    "            \n",
    "            if best_diff > cnt_greater - cnt_less:\n",
    "                best_diff = cnt_greater - cnt_less\n",
    "                L, R = i, j\n",
    "    \n",
    "    print(L + 1, R + 1)\n",
    "\n",
    "def main():\n",
    "    tt = int(input())\n",
    "    for _ in range(tt):\n",
    "        solve()\n",
    "\n",
    "if __name__ == \"__main__\":\n",
    "    main()\n"
   ]
  },
  {
   "cell_type": "code",
   "execution_count": null,
   "metadata": {},
   "outputs": [],
   "source": [
    "for _ in range(int(input())):\n",
    "    n, m = map(int, input().split())\n",
    "    a = [list(map(int, input().split())) for i in range(n)]\n",
    "    hasColor = [0] * (n * m)\n",
    "    hasBad = [0] * (n * m)\n",
    "    for i in range(n):\n",
    "        for j in range(m):\n",
    "            hasColor[a[i][j] - 1] = 1\n",
    "            if i + 1 < n and a[i][j] == a[i + 1][j]:\n",
    "                hasBad[a[i][j] - 1] = 1\n",
    "            if j + 1 < m and a[i][j] == a[i][j + 1]:\n",
    "                hasBad[a[i][j] - 1] = 1\n",
    "    print(sum(hasColor) + sum(hasBad) - 1 - max(hasBad))"
   ]
  },
  {
   "cell_type": "code",
   "execution_count": null,
   "metadata": {},
   "outputs": [],
   "source": [
    "for _ in range(int(input())):\n",
    "    n, k = map(int, input().split())\n",
    "    s = input()\n",
    "    a = list(map(int, input().split()))\n",
    "    l, r = 0, 10**9\n",
    "    res = -1\n",
    "    \n",
    "    def check(d):\n",
    "        last = 'R'\n",
    "        cnt = 0\n",
    "        for i in range(n):\n",
    "            if a[i] > d:\n",
    "                if s[i] == 'B' and last != 'B':\n",
    "                    cnt += 1\n",
    "                last = s[i]\n",
    "        return cnt <= k\n",
    "    \n",
    "    while l <= r:\n",
    "        m = (l + r) // 2\n",
    "        if check(m):\n",
    "            res = m\n",
    "            r = m - 1\n",
    "        else:\n",
    "            l = m + 1\n",
    "    print(res)"
   ]
  }
 ],
 "metadata": {
  "language_info": {
   "name": "python"
  }
 },
 "nbformat": 4,
 "nbformat_minor": 2
}
